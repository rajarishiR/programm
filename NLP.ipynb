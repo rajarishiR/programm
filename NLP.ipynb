{
  "nbformat": 4,
  "nbformat_minor": 0,
  "metadata": {
    "colab": {
      "name": "NLP.ipynb",
      "provenance": [],
      "authorship_tag": "ABX9TyNGaB2fbeli60fcKcIx60R+",
      "include_colab_link": true
    },
    "kernelspec": {
      "name": "python3",
      "display_name": "Python 3"
    },
    "language_info": {
      "name": "python"
    }
  },
  "cells": [
    {
      "cell_type": "markdown",
      "metadata": {
        "id": "view-in-github",
        "colab_type": "text"
      },
      "source": [
        "<a href=\"https://colab.research.google.com/github/rajarishiR/programm/blob/main/NLP.ipynb\" target=\"_parent\"><img src=\"https://colab.research.google.com/assets/colab-badge.svg\" alt=\"Open In Colab\"/></a>"
      ]
    },
    {
      "cell_type": "code",
      "source": [
        "import pandas as pd\n",
        "import numpy as np\n",
        "import matplotlib.pyplot as plt"
      ],
      "metadata": {
        "id": "IYNm82-jZkco"
      },
      "execution_count": 38,
      "outputs": []
    },
    {
      "cell_type": "code",
      "source": [
        ""
      ],
      "metadata": {
        "id": "VKa6fOhWZ5Ym"
      },
      "execution_count": null,
      "outputs": []
    },
    {
      "cell_type": "code",
      "source": [
        "df = pd.read_csv('/content/English.csv')\n",
        "df.head()"
      ],
      "metadata": {
        "colab": {
          "base_uri": "https://localhost:8080/",
          "height": 206
        },
        "id": "7C-CEc2juviT",
        "outputId": "89a3e224-e836-43c6-9576-90b461a9e549"
      },
      "execution_count": 39,
      "outputs": [
        {
          "output_type": "execute_result",
          "data": {
            "text/plain": [
              "  English words/sentences\n",
              "0                     Hi.\n",
              "1                    Run!\n",
              "2                    Run!\n",
              "3                    Who?\n",
              "4                    Wow!"
            ],
            "text/html": [
              "\n",
              "  <div id=\"df-ae268189-2f28-43c7-b0b8-fc678ac03a49\">\n",
              "    <div class=\"colab-df-container\">\n",
              "      <div>\n",
              "<style scoped>\n",
              "    .dataframe tbody tr th:only-of-type {\n",
              "        vertical-align: middle;\n",
              "    }\n",
              "\n",
              "    .dataframe tbody tr th {\n",
              "        vertical-align: top;\n",
              "    }\n",
              "\n",
              "    .dataframe thead th {\n",
              "        text-align: right;\n",
              "    }\n",
              "</style>\n",
              "<table border=\"1\" class=\"dataframe\">\n",
              "  <thead>\n",
              "    <tr style=\"text-align: right;\">\n",
              "      <th></th>\n",
              "      <th>English words/sentences</th>\n",
              "    </tr>\n",
              "  </thead>\n",
              "  <tbody>\n",
              "    <tr>\n",
              "      <th>0</th>\n",
              "      <td>Hi.</td>\n",
              "    </tr>\n",
              "    <tr>\n",
              "      <th>1</th>\n",
              "      <td>Run!</td>\n",
              "    </tr>\n",
              "    <tr>\n",
              "      <th>2</th>\n",
              "      <td>Run!</td>\n",
              "    </tr>\n",
              "    <tr>\n",
              "      <th>3</th>\n",
              "      <td>Who?</td>\n",
              "    </tr>\n",
              "    <tr>\n",
              "      <th>4</th>\n",
              "      <td>Wow!</td>\n",
              "    </tr>\n",
              "  </tbody>\n",
              "</table>\n",
              "</div>\n",
              "      <button class=\"colab-df-convert\" onclick=\"convertToInteractive('df-ae268189-2f28-43c7-b0b8-fc678ac03a49')\"\n",
              "              title=\"Convert this dataframe to an interactive table.\"\n",
              "              style=\"display:none;\">\n",
              "        \n",
              "  <svg xmlns=\"http://www.w3.org/2000/svg\" height=\"24px\"viewBox=\"0 0 24 24\"\n",
              "       width=\"24px\">\n",
              "    <path d=\"M0 0h24v24H0V0z\" fill=\"none\"/>\n",
              "    <path d=\"M18.56 5.44l.94 2.06.94-2.06 2.06-.94-2.06-.94-.94-2.06-.94 2.06-2.06.94zm-11 1L8.5 8.5l.94-2.06 2.06-.94-2.06-.94L8.5 2.5l-.94 2.06-2.06.94zm10 10l.94 2.06.94-2.06 2.06-.94-2.06-.94-.94-2.06-.94 2.06-2.06.94z\"/><path d=\"M17.41 7.96l-1.37-1.37c-.4-.4-.92-.59-1.43-.59-.52 0-1.04.2-1.43.59L10.3 9.45l-7.72 7.72c-.78.78-.78 2.05 0 2.83L4 21.41c.39.39.9.59 1.41.59.51 0 1.02-.2 1.41-.59l7.78-7.78 2.81-2.81c.8-.78.8-2.07 0-2.86zM5.41 20L4 18.59l7.72-7.72 1.47 1.35L5.41 20z\"/>\n",
              "  </svg>\n",
              "      </button>\n",
              "      \n",
              "  <style>\n",
              "    .colab-df-container {\n",
              "      display:flex;\n",
              "      flex-wrap:wrap;\n",
              "      gap: 12px;\n",
              "    }\n",
              "\n",
              "    .colab-df-convert {\n",
              "      background-color: #E8F0FE;\n",
              "      border: none;\n",
              "      border-radius: 50%;\n",
              "      cursor: pointer;\n",
              "      display: none;\n",
              "      fill: #1967D2;\n",
              "      height: 32px;\n",
              "      padding: 0 0 0 0;\n",
              "      width: 32px;\n",
              "    }\n",
              "\n",
              "    .colab-df-convert:hover {\n",
              "      background-color: #E2EBFA;\n",
              "      box-shadow: 0px 1px 2px rgba(60, 64, 67, 0.3), 0px 1px 3px 1px rgba(60, 64, 67, 0.15);\n",
              "      fill: #174EA6;\n",
              "    }\n",
              "\n",
              "    [theme=dark] .colab-df-convert {\n",
              "      background-color: #3B4455;\n",
              "      fill: #D2E3FC;\n",
              "    }\n",
              "\n",
              "    [theme=dark] .colab-df-convert:hover {\n",
              "      background-color: #434B5C;\n",
              "      box-shadow: 0px 1px 3px 1px rgba(0, 0, 0, 0.15);\n",
              "      filter: drop-shadow(0px 1px 2px rgba(0, 0, 0, 0.3));\n",
              "      fill: #FFFFFF;\n",
              "    }\n",
              "  </style>\n",
              "\n",
              "      <script>\n",
              "        const buttonEl =\n",
              "          document.querySelector('#df-ae268189-2f28-43c7-b0b8-fc678ac03a49 button.colab-df-convert');\n",
              "        buttonEl.style.display =\n",
              "          google.colab.kernel.accessAllowed ? 'block' : 'none';\n",
              "\n",
              "        async function convertToInteractive(key) {\n",
              "          const element = document.querySelector('#df-ae268189-2f28-43c7-b0b8-fc678ac03a49');\n",
              "          const dataTable =\n",
              "            await google.colab.kernel.invokeFunction('convertToInteractive',\n",
              "                                                     [key], {});\n",
              "          if (!dataTable) return;\n",
              "\n",
              "          const docLinkHtml = 'Like what you see? Visit the ' +\n",
              "            '<a target=\"_blank\" href=https://colab.research.google.com/notebooks/data_table.ipynb>data table notebook</a>'\n",
              "            + ' to learn more about interactive tables.';\n",
              "          element.innerHTML = '';\n",
              "          dataTable['output_type'] = 'display_data';\n",
              "          await google.colab.output.renderOutput(dataTable, element);\n",
              "          const docLink = document.createElement('div');\n",
              "          docLink.innerHTML = docLinkHtml;\n",
              "          element.appendChild(docLink);\n",
              "        }\n",
              "      </script>\n",
              "    </div>\n",
              "  </div>\n",
              "  "
            ]
          },
          "metadata": {},
          "execution_count": 39
        }
      ]
    },
    {
      "cell_type": "code",
      "source": [
        "df.dtypes "
      ],
      "metadata": {
        "colab": {
          "base_uri": "https://localhost:8080/"
        },
        "id": "giEY1MwLwDXG",
        "outputId": "daf50fa4-e4c2-4224-8961-c360c0c6d742"
      },
      "execution_count": 40,
      "outputs": [
        {
          "output_type": "execute_result",
          "data": {
            "text/plain": [
              "English words/sentences    object\n",
              "dtype: object"
            ]
          },
          "metadata": {},
          "execution_count": 40
        }
      ]
    },
    {
      "cell_type": "code",
      "source": [
        "df.isnull().sum()"
      ],
      "metadata": {
        "colab": {
          "base_uri": "https://localhost:8080/"
        },
        "id": "X75ZP4n1wRte",
        "outputId": "5d9b1ff5-db9c-4128-c0b2-35ae4c84fe82"
      },
      "execution_count": 41,
      "outputs": [
        {
          "output_type": "execute_result",
          "data": {
            "text/plain": [
              "English words/sentences    0\n",
              "dtype: int64"
            ]
          },
          "metadata": {},
          "execution_count": 41
        }
      ]
    },
    {
      "cell_type": "code",
      "source": [
        "df['English words/sentences'].unique()"
      ],
      "metadata": {
        "colab": {
          "base_uri": "https://localhost:8080/"
        },
        "id": "WKndJyLuvYSX",
        "outputId": "30ba19be-df95-488d-820f-5f5fd1009232"
      },
      "execution_count": 42,
      "outputs": [
        {
          "output_type": "execute_result",
          "data": {
            "text/plain": [
              "array(['Hi.', 'Run!', 'Who?', ...,\n",
              "       \"Death is something that we're often discouraged to talk about or even think about, but I've realized that preparing for death is one of the most empowering things you can do. Thinking about death clarifies your life.\",\n",
              "       'Since there are usually multiple websites on any given topic, I usually just click the back button when I arrive on any webpage that has pop-up advertising. I just go to the next page found by Google and hope for something less irritating.',\n",
              "       \"If someone who doesn't know your background says that you sound like a native speaker, it means they probably noticed something about your speaking that made them realize you weren't a native speaker. In other words, you don't really sound like a native speaker.\"],\n",
              "      dtype=object)"
            ]
          },
          "metadata": {},
          "execution_count": 42
        }
      ]
    },
    {
      "cell_type": "markdown",
      "source": [
        " **Punctuation removal.**"
      ],
      "metadata": {
        "id": "bMeXXRZywX7O"
      }
    },
    {
      "cell_type": "code",
      "source": [
        "df['English words/sentences'] = df['English words/sentences'].str.replace(\"[^a-zA-Z0-9]\", \" \")\n",
        "df['English words/sentences']"
      ],
      "metadata": {
        "colab": {
          "base_uri": "https://localhost:8080/"
        },
        "id": "-WiOnxmJwXDM",
        "outputId": "b38b9c3f-fb6b-4d7d-f43a-589071b7c883"
      },
      "execution_count": 43,
      "outputs": [
        {
          "output_type": "stream",
          "name": "stderr",
          "text": [
            "/usr/local/lib/python3.7/dist-packages/ipykernel_launcher.py:1: FutureWarning: The default value of regex will change from True to False in a future version.\n",
            "  \"\"\"Entry point for launching an IPython kernel.\n"
          ]
        },
        {
          "output_type": "execute_result",
          "data": {
            "text/plain": [
              "0                                                       Hi \n",
              "1                                                      Run \n",
              "2                                                      Run \n",
              "3                                                      Who \n",
              "4                                                      Wow \n",
              "                                ...                        \n",
              "175616    Top down economics never works  said Obama   T...\n",
              "175617    A carbon footprint is the amount of carbon dio...\n",
              "175618    Death is something that we re often discourage...\n",
              "175619    Since there are usually multiple websites on a...\n",
              "175620    If someone who doesn t know your background sa...\n",
              "Name: English words/sentences, Length: 175621, dtype: object"
            ]
          },
          "metadata": {},
          "execution_count": 43
        }
      ]
    },
    {
      "cell_type": "markdown",
      "source": [
        "**changing all the letters to lower case.**"
      ],
      "metadata": {
        "id": "hBNx1eZjw5yO"
      }
    },
    {
      "cell_type": "code",
      "source": [
        "df['English words/sentences'] = [review.lower() for review in df['English words/sentences']]\n",
        "df['English words/sentences']"
      ],
      "metadata": {
        "colab": {
          "base_uri": "https://localhost:8080/"
        },
        "id": "PizVJ-l1w6Fm",
        "outputId": "07642bc6-5b01-496b-b89e-9e4e949f241f"
      },
      "execution_count": 44,
      "outputs": [
        {
          "output_type": "execute_result",
          "data": {
            "text/plain": [
              "0                                                       hi \n",
              "1                                                      run \n",
              "2                                                      run \n",
              "3                                                      who \n",
              "4                                                      wow \n",
              "                                ...                        \n",
              "175616    top down economics never works  said obama   t...\n",
              "175617    a carbon footprint is the amount of carbon dio...\n",
              "175618    death is something that we re often discourage...\n",
              "175619    since there are usually multiple websites on a...\n",
              "175620    if someone who doesn t know your background sa...\n",
              "Name: English words/sentences, Length: 175621, dtype: object"
            ]
          },
          "metadata": {},
          "execution_count": 44
        }
      ]
    },
    {
      "cell_type": "markdown",
      "source": [
        "**Task-1:\n",
        "        To translate each word or sentence from English to Spanish**"
      ],
      "metadata": {
        "id": "1wlx-qvdxkzX"
      }
    },
    {
      "cell_type": "code",
      "source": [
        "!pip install googletrans"
      ],
      "metadata": {
        "id": "Ic1pnu3T9ZbR"
      },
      "execution_count": null,
      "outputs": []
    },
    {
      "cell_type": "code",
      "source": [
        "!pip install deep-translator"
      ],
      "metadata": {
        "id": "3rpZCZ-PH2en"
      },
      "execution_count": null,
      "outputs": []
    },
    {
      "cell_type": "code",
      "source": [
        "import nltk\n",
        "nltk.download(\"punkt\")\n",
        "nltk.download(\"wordnet\")\n",
        "from deep_translator import GoogleTranslator"
      ],
      "metadata": {
        "id": "hBBD6NfrIdKM"
      },
      "execution_count": null,
      "outputs": []
    },
    {
      "cell_type": "markdown",
      "source": [
        "**Task-1: Translate each word or sentence from English to Spanish, French and German**"
      ],
      "metadata": {
        "id": "wW0Mh294Z-J2"
      }
    },
    {
      "cell_type": "code",
      "source": [
        "def Translate_Es(number):\n",
        "    translation_tokenized=GoogleTranslator(source='english', target='es').translate(number)\n",
        "    return translation_tokenized"
      ],
      "metadata": {
        "id": "q2GILcvcZ9be"
      },
      "execution_count": 48,
      "outputs": []
    },
    {
      "cell_type": "markdown",
      "source": [
        "**Spanish**"
      ],
      "metadata": {
        "id": "LnJKyac3abfu"
      }
    },
    {
      "cell_type": "code",
      "source": [
        "Trans_Spanish_Words = [Translate_Es(r) for r in df[\"English words/sentences\"].head(10)]\n",
        "Trans_Spanish_Words"
      ],
      "metadata": {
        "colab": {
          "base_uri": "https://localhost:8080/"
        },
        "id": "RR2w2fw0aMzQ",
        "outputId": "401ff49d-e92d-435d-9f80-57d3c2c67e67"
      },
      "execution_count": 49,
      "outputs": [
        {
          "output_type": "execute_result",
          "data": {
            "text/plain": [
              "['hola',\n",
              " 'correr',\n",
              " 'correr',\n",
              " 'quién',\n",
              " 'guau',\n",
              " 'fuego',\n",
              " 'ayuda',\n",
              " 'salto',\n",
              " 'deténgase',\n",
              " 'deténgase']"
            ]
          },
          "metadata": {},
          "execution_count": 49
        }
      ]
    },
    {
      "cell_type": "markdown",
      "source": [
        "**French**"
      ],
      "metadata": {
        "id": "Sdbg-TfaaeA2"
      }
    },
    {
      "cell_type": "code",
      "source": [
        "def Translate_fr(rev):\n",
        "    translation_tokenized = GoogleTranslator(source='english', target='fr').translate(rev)\n",
        "    return translation_tokenized\n",
        "Trans_French_Words = [Translate_fr(r) for r in df[\"English words/sentences\"].head(10)]\n",
        "Trans_French_Words"
      ],
      "metadata": {
        "colab": {
          "base_uri": "https://localhost:8080/"
        },
        "id": "pOEyCaLHaYQP",
        "outputId": "bb7183fc-5efd-42c3-f91b-a5453ea31167"
      },
      "execution_count": 50,
      "outputs": [
        {
          "output_type": "execute_result",
          "data": {
            "text/plain": [
              "['salut',\n",
              " 'Cours',\n",
              " 'Cours',\n",
              " 'qui',\n",
              " 'wow',\n",
              " 'Feu',\n",
              " 'aider',\n",
              " 'saut',\n",
              " 'arrêt',\n",
              " 'arrêt']"
            ]
          },
          "metadata": {},
          "execution_count": 50
        }
      ]
    },
    {
      "cell_type": "markdown",
      "source": [
        "**German**"
      ],
      "metadata": {
        "id": "ieqQqZpxa6Rm"
      }
    },
    {
      "cell_type": "code",
      "source": [
        "def Translate_Ge(rev):\n",
        "    translation_tokenized = GoogleTranslator(source='english', target='de').translate(rev)\n",
        "    return translation_tokenized\n",
        "Trans_German_Words = [Translate_Ge(r) for r in df[\"English words/sentences\"].head(10)]\n",
        "Trans_German_Words  "
      ],
      "metadata": {
        "colab": {
          "base_uri": "https://localhost:8080/"
        },
        "id": "4c1cVgnBa9Dh",
        "outputId": "3f3a10af-03e0-4336-81cb-881d1bb17ddd"
      },
      "execution_count": 52,
      "outputs": [
        {
          "output_type": "execute_result",
          "data": {
            "text/plain": [
              "['hallo',\n",
              " 'Lauf',\n",
              " 'Lauf',\n",
              " 'wer',\n",
              " 'Beeindruckend',\n",
              " 'Feuer',\n",
              " 'Hilfe',\n",
              " 'springen',\n",
              " 'Pause',\n",
              " 'Pause']"
            ]
          },
          "metadata": {},
          "execution_count": 52
        }
      ]
    },
    {
      "cell_type": "markdown",
      "source": [
        "**Task2: spell correction**"
      ],
      "metadata": {
        "id": "Nib77TgobT9O"
      }
    },
    {
      "cell_type": "code",
      "source": [
        "!pip install pyspellchecker"
      ],
      "metadata": {
        "id": "pfqgOyDsbPZa"
      },
      "execution_count": null,
      "outputs": []
    },
    {
      "cell_type": "markdown",
      "source": [
        "**Misspelled unique words**"
      ],
      "metadata": {
        "id": "E7tIt7i3bv0e"
      }
    },
    {
      "cell_type": "code",
      "source": [
        "from spellchecker import SpellChecker\n",
        "specheck = SpellChecker()\n",
        "misspelled_words = specheck.unknown([\"cmputr\", \"watr\", \"wriet\", \"athist\", \"acceptible\", \"benifit\", \"acommodate\", \"amatuer\", \"acknowlege\", \"becomeing\", \n",
        "                            \"camoflague\", \"catagory\", \"cauhgt\", \"cematery\", \"apparrent\", \"congradulate\", \"conceed\", \"definit\", \"disasterous\", \"dilema\",\n",
        "                            \"equiptment \", \"excede\", \"experiance\", \"innoculate\", \"extreem\", \"guage\", \"gratful\", \"guidence\", \"heirarchy\", \"dumbell\",\n",
        "                            \"necessery\", \"inteligence\", \"kernal\", \"libary\", \"outragous\", \"marshmellow\", \"miniture\", \"medeval\", \"nieghbor\", \"origenal\"])\n",
        "\n",
        "for word in misspelled_words:\n",
        "    print(specheck.correction(word))"
      ],
      "metadata": {
        "colab": {
          "base_uri": "https://localhost:8080/"
        },
        "id": "1F-0lykkbtMR",
        "outputId": "2735be11-9f8d-45c0-b956-3caaf85da610"
      },
      "execution_count": 54,
      "outputs": [
        {
          "output_type": "stream",
          "name": "stdout",
          "text": [
            "accommodate\n",
            "category\n",
            "write\n",
            "hierarchy\n",
            "cemetery\n",
            "congratulate\n",
            "caught\n",
            "disastrous\n",
            "dilemma\n",
            "original\n",
            "dumbbell\n",
            "definite\n",
            "miniature\n",
            "neighbor\n",
            "acknowledge\n",
            "camouflage\n",
            "extreme\n",
            "amateur\n",
            "outrageous\n",
            "guidance\n",
            "marshmallow\n",
            "library\n",
            "experience\n",
            "medieval\n",
            "benefit\n",
            "acceptable\n",
            "inoculate\n",
            "gauge\n",
            "equipment\n",
            "intelligence\n",
            "becoming\n",
            "necessary\n",
            "grateful\n",
            "water\n",
            "kernel\n",
            "atheist\n",
            "concede\n",
            "apparent\n",
            "exceed\n",
            "computer\n"
          ]
        }
      ]
    }
  ]
}