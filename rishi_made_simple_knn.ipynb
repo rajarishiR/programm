{
  "nbformat": 4,
  "nbformat_minor": 0,
  "metadata": {
    "colab": {
      "name": "rishi.made.simple_knn.ipynb",
      "provenance": [],
      "authorship_tag": "ABX9TyPi+Jd/maoIW1/Q980EAvy4",
      "include_colab_link": true
    },
    "kernelspec": {
      "name": "python3",
      "display_name": "Python 3"
    },
    "language_info": {
      "name": "python"
    }
  },
  "cells": [
    {
      "cell_type": "markdown",
      "metadata": {
        "id": "view-in-github",
        "colab_type": "text"
      },
      "source": [
        "<a href=\"https://colab.research.google.com/github/rajarishiR/programm/blob/main/rishi_made_simple_knn.ipynb\" target=\"_parent\"><img src=\"https://colab.research.google.com/assets/colab-badge.svg\" alt=\"Open In Colab\"/></a>"
      ]
    },
    {
      "cell_type": "code",
      "execution_count": 1,
      "metadata": {
        "id": "OCzNda_5_EPV"
      },
      "outputs": [],
      "source": [
        "import pandas as pd\n",
        "import numpy as np\n",
        "import matplotlib.pyplot as plt"
      ]
    },
    {
      "cell_type": "code",
      "source": [
        "# its a clasiification problem \n",
        "data1 = pd.read_csv(\"/content/ushape.csv\")\n",
        "data1"
      ],
      "metadata": {
        "colab": {
          "base_uri": "https://localhost:8080/",
          "height": 423
        },
        "id": "8XDAnyoF_V8H",
        "outputId": "cc35a598-31f0-4e5e-94fa-28cf46b12083"
      },
      "execution_count": 2,
      "outputs": [
        {
          "output_type": "execute_result",
          "data": {
            "text/plain": [
              "         X       Y  class\n",
              "0   0.0316  0.9870    0.0\n",
              "1   2.1200 -0.0462    1.0\n",
              "2   0.8820 -0.0758    0.0\n",
              "3  -0.0551 -0.0373    1.0\n",
              "4   0.8300 -0.5390    1.0\n",
              "..     ...     ...    ...\n",
              "95  1.7000  0.5880    1.0\n",
              "96  0.2190 -0.6530    1.0\n",
              "97  0.9530 -0.4200    1.0\n",
              "98 -1.3200  0.4230    0.0\n",
              "99 -1.3000  0.1840    0.0\n",
              "\n",
              "[100 rows x 3 columns]"
            ],
            "text/html": [
              "\n",
              "  <div id=\"df-0530f472-1518-45ad-86dd-10a25c609dc1\">\n",
              "    <div class=\"colab-df-container\">\n",
              "      <div>\n",
              "<style scoped>\n",
              "    .dataframe tbody tr th:only-of-type {\n",
              "        vertical-align: middle;\n",
              "    }\n",
              "\n",
              "    .dataframe tbody tr th {\n",
              "        vertical-align: top;\n",
              "    }\n",
              "\n",
              "    .dataframe thead th {\n",
              "        text-align: right;\n",
              "    }\n",
              "</style>\n",
              "<table border=\"1\" class=\"dataframe\">\n",
              "  <thead>\n",
              "    <tr style=\"text-align: right;\">\n",
              "      <th></th>\n",
              "      <th>X</th>\n",
              "      <th>Y</th>\n",
              "      <th>class</th>\n",
              "    </tr>\n",
              "  </thead>\n",
              "  <tbody>\n",
              "    <tr>\n",
              "      <th>0</th>\n",
              "      <td>0.0316</td>\n",
              "      <td>0.9870</td>\n",
              "      <td>0.0</td>\n",
              "    </tr>\n",
              "    <tr>\n",
              "      <th>1</th>\n",
              "      <td>2.1200</td>\n",
              "      <td>-0.0462</td>\n",
              "      <td>1.0</td>\n",
              "    </tr>\n",
              "    <tr>\n",
              "      <th>2</th>\n",
              "      <td>0.8820</td>\n",
              "      <td>-0.0758</td>\n",
              "      <td>0.0</td>\n",
              "    </tr>\n",
              "    <tr>\n",
              "      <th>3</th>\n",
              "      <td>-0.0551</td>\n",
              "      <td>-0.0373</td>\n",
              "      <td>1.0</td>\n",
              "    </tr>\n",
              "    <tr>\n",
              "      <th>4</th>\n",
              "      <td>0.8300</td>\n",
              "      <td>-0.5390</td>\n",
              "      <td>1.0</td>\n",
              "    </tr>\n",
              "    <tr>\n",
              "      <th>...</th>\n",
              "      <td>...</td>\n",
              "      <td>...</td>\n",
              "      <td>...</td>\n",
              "    </tr>\n",
              "    <tr>\n",
              "      <th>95</th>\n",
              "      <td>1.7000</td>\n",
              "      <td>0.5880</td>\n",
              "      <td>1.0</td>\n",
              "    </tr>\n",
              "    <tr>\n",
              "      <th>96</th>\n",
              "      <td>0.2190</td>\n",
              "      <td>-0.6530</td>\n",
              "      <td>1.0</td>\n",
              "    </tr>\n",
              "    <tr>\n",
              "      <th>97</th>\n",
              "      <td>0.9530</td>\n",
              "      <td>-0.4200</td>\n",
              "      <td>1.0</td>\n",
              "    </tr>\n",
              "    <tr>\n",
              "      <th>98</th>\n",
              "      <td>-1.3200</td>\n",
              "      <td>0.4230</td>\n",
              "      <td>0.0</td>\n",
              "    </tr>\n",
              "    <tr>\n",
              "      <th>99</th>\n",
              "      <td>-1.3000</td>\n",
              "      <td>0.1840</td>\n",
              "      <td>0.0</td>\n",
              "    </tr>\n",
              "  </tbody>\n",
              "</table>\n",
              "<p>100 rows × 3 columns</p>\n",
              "</div>\n",
              "      <button class=\"colab-df-convert\" onclick=\"convertToInteractive('df-0530f472-1518-45ad-86dd-10a25c609dc1')\"\n",
              "              title=\"Convert this dataframe to an interactive table.\"\n",
              "              style=\"display:none;\">\n",
              "        \n",
              "  <svg xmlns=\"http://www.w3.org/2000/svg\" height=\"24px\"viewBox=\"0 0 24 24\"\n",
              "       width=\"24px\">\n",
              "    <path d=\"M0 0h24v24H0V0z\" fill=\"none\"/>\n",
              "    <path d=\"M18.56 5.44l.94 2.06.94-2.06 2.06-.94-2.06-.94-.94-2.06-.94 2.06-2.06.94zm-11 1L8.5 8.5l.94-2.06 2.06-.94-2.06-.94L8.5 2.5l-.94 2.06-2.06.94zm10 10l.94 2.06.94-2.06 2.06-.94-2.06-.94-.94-2.06-.94 2.06-2.06.94z\"/><path d=\"M17.41 7.96l-1.37-1.37c-.4-.4-.92-.59-1.43-.59-.52 0-1.04.2-1.43.59L10.3 9.45l-7.72 7.72c-.78.78-.78 2.05 0 2.83L4 21.41c.39.39.9.59 1.41.59.51 0 1.02-.2 1.41-.59l7.78-7.78 2.81-2.81c.8-.78.8-2.07 0-2.86zM5.41 20L4 18.59l7.72-7.72 1.47 1.35L5.41 20z\"/>\n",
              "  </svg>\n",
              "      </button>\n",
              "      \n",
              "  <style>\n",
              "    .colab-df-container {\n",
              "      display:flex;\n",
              "      flex-wrap:wrap;\n",
              "      gap: 12px;\n",
              "    }\n",
              "\n",
              "    .colab-df-convert {\n",
              "      background-color: #E8F0FE;\n",
              "      border: none;\n",
              "      border-radius: 50%;\n",
              "      cursor: pointer;\n",
              "      display: none;\n",
              "      fill: #1967D2;\n",
              "      height: 32px;\n",
              "      padding: 0 0 0 0;\n",
              "      width: 32px;\n",
              "    }\n",
              "\n",
              "    .colab-df-convert:hover {\n",
              "      background-color: #E2EBFA;\n",
              "      box-shadow: 0px 1px 2px rgba(60, 64, 67, 0.3), 0px 1px 3px 1px rgba(60, 64, 67, 0.15);\n",
              "      fill: #174EA6;\n",
              "    }\n",
              "\n",
              "    [theme=dark] .colab-df-convert {\n",
              "      background-color: #3B4455;\n",
              "      fill: #D2E3FC;\n",
              "    }\n",
              "\n",
              "    [theme=dark] .colab-df-convert:hover {\n",
              "      background-color: #434B5C;\n",
              "      box-shadow: 0px 1px 3px 1px rgba(0, 0, 0, 0.15);\n",
              "      filter: drop-shadow(0px 1px 2px rgba(0, 0, 0, 0.3));\n",
              "      fill: #FFFFFF;\n",
              "    }\n",
              "  </style>\n",
              "\n",
              "      <script>\n",
              "        const buttonEl =\n",
              "          document.querySelector('#df-0530f472-1518-45ad-86dd-10a25c609dc1 button.colab-df-convert');\n",
              "        buttonEl.style.display =\n",
              "          google.colab.kernel.accessAllowed ? 'block' : 'none';\n",
              "\n",
              "        async function convertToInteractive(key) {\n",
              "          const element = document.querySelector('#df-0530f472-1518-45ad-86dd-10a25c609dc1');\n",
              "          const dataTable =\n",
              "            await google.colab.kernel.invokeFunction('convertToInteractive',\n",
              "                                                     [key], {});\n",
              "          if (!dataTable) return;\n",
              "\n",
              "          const docLinkHtml = 'Like what you see? Visit the ' +\n",
              "            '<a target=\"_blank\" href=https://colab.research.google.com/notebooks/data_table.ipynb>data table notebook</a>'\n",
              "            + ' to learn more about interactive tables.';\n",
              "          element.innerHTML = '';\n",
              "          dataTable['output_type'] = 'display_data';\n",
              "          await google.colab.output.renderOutput(dataTable, element);\n",
              "          const docLink = document.createElement('div');\n",
              "          docLink.innerHTML = docLinkHtml;\n",
              "          element.appendChild(docLink);\n",
              "        }\n",
              "      </script>\n",
              "    </div>\n",
              "  </div>\n",
              "  "
            ]
          },
          "metadata": {},
          "execution_count": 2
        }
      ]
    },
    {
      "cell_type": "code",
      "source": [
        "# spliting the feature and target\n",
        "x = data1[['X','Y']].values\n",
        "y = data1['class'].values"
      ],
      "metadata": {
        "id": "FVSF5algBIzL"
      },
      "execution_count": 3,
      "outputs": []
    },
    {
      "cell_type": "code",
      "source": [
        "#spliting train and test\n",
        "from sklearn.model_selection import train_test_split\n",
        "x_train, x_test, y_train, y_test = train_test_split(x,y,test_size=0.3)"
      ],
      "metadata": {
        "id": "1TlUTnBUC0bT"
      },
      "execution_count": 4,
      "outputs": []
    },
    {
      "cell_type": "code",
      "source": [
        "# performing knn\n",
        "from sklearn.neighbors import KNeighborsClassifier, KNeighborsRegressor\n",
        "# to get the best value of k we use hit and trail from 1 to 20 in genral.\n",
        "for i in [1,2,3,4,5,6,7,8,9,10,11,12,13,14,15,16,17,18,19,20]:\n",
        "  knn = KNeighborsClassifier(i)\n",
        "  knn.fit(x_train,y_train)\n",
        "  print(\"K value when i = \",i,\"is\",knn.score(x_test,y_test))# we use test dataset to find the best val of k"
      ],
      "metadata": {
        "colab": {
          "base_uri": "https://localhost:8080/"
        },
        "id": "5D6SjVEzCHNW",
        "outputId": "8b1ab2b2-0e38-4aa5-be85-eee14b811649"
      },
      "execution_count": 5,
      "outputs": [
        {
          "output_type": "stream",
          "name": "stdout",
          "text": [
            "K value when i =  1 is 0.9\n",
            "K value when i =  2 is 0.9\n",
            "K value when i =  3 is 0.9\n",
            "K value when i =  4 is 0.8666666666666667\n",
            "K value when i =  5 is 0.9\n",
            "K value when i =  6 is 0.8666666666666667\n",
            "K value when i =  7 is 0.9\n",
            "K value when i =  8 is 0.8666666666666667\n",
            "K value when i =  9 is 0.8666666666666667\n",
            "K value when i =  10 is 0.8666666666666667\n",
            "K value when i =  11 is 0.8666666666666667\n",
            "K value when i =  12 is 0.8666666666666667\n",
            "K value when i =  13 is 0.8666666666666667\n",
            "K value when i =  14 is 0.8666666666666667\n",
            "K value when i =  15 is 0.8333333333333334\n",
            "K value when i =  16 is 0.8333333333333334\n",
            "K value when i =  17 is 0.8333333333333334\n",
            "K value when i =  18 is 0.8333333333333334\n",
            "K value when i =  19 is 0.7333333333333333\n",
            "K value when i =  20 is 0.7666666666666667\n"
          ]
        }
      ]
    },
    {
      "cell_type": "code",
      "source": [
        "# from the above code we get to choose the k val with good accuracy\n",
        "# since 3,5 has the highest accuracy value we choose 3 or 5\n",
        "knn = KNeighborsClassifier(5)\n",
        "knn.fit(x_train,y_train)\n",
        "v = knn.predict(x_train)\n",
        "v"
      ],
      "metadata": {
        "colab": {
          "base_uri": "https://localhost:8080/"
        },
        "id": "fmcTsZW4DwYG",
        "outputId": "3469c6c2-1ce9-4dca-e227-0cddc07f96a9"
      },
      "execution_count": 8,
      "outputs": [
        {
          "output_type": "execute_result",
          "data": {
            "text/plain": [
              "array([1., 0., 0., 0., 0., 0., 0., 1., 1., 1., 0., 0., 1., 1., 1., 0., 0.,\n",
              "       0., 1., 1., 1., 1., 1., 1., 0., 1., 1., 0., 1., 1., 0., 1., 1., 0.,\n",
              "       1., 1., 0., 0., 0., 0., 0., 1., 1., 0., 1., 0., 1., 0., 1., 0., 1.,\n",
              "       1., 1., 0., 1., 0., 0., 1., 1., 0., 0., 0., 0., 1., 1., 0., 0., 0.,\n",
              "       1., 1.])"
            ]
          },
          "metadata": {},
          "execution_count": 8
        }
      ]
    },
    {
      "cell_type": "code",
      "source": [
        "# plotting the decision boundary\n",
        "z = y.astype(int) # since y needs to be an int not array for decision ploting we converted\n",
        "from mlxtend.plotting import plot_decision_regions # package for ploting decision boundary\n",
        "clf = KNeighborsClassifier(n_neighbors=5) # we used 5 cause it has best accuracy and auroc vals.\n",
        "clf.fit(x,z)\n",
        "plot_decision_regions(x, z, clf=clf, legend=2)\n",
        "plt.xlabel('x')\n",
        "plt.ylabel('y')\n",
        "plt.title('when k=5')\n",
        "plt.show()"
      ],
      "metadata": {
        "colab": {
          "base_uri": "https://localhost:8080/",
          "height": 350
        },
        "id": "Ok_7gDQggAgj",
        "outputId": "14769dc4-f57c-4a26-b82f-7524ad329e33"
      },
      "execution_count": 13,
      "outputs": [
        {
          "output_type": "stream",
          "name": "stderr",
          "text": [
            "/usr/local/lib/python3.7/dist-packages/mlxtend/plotting/decision_regions.py:244: MatplotlibDeprecationWarning: Passing unsupported keyword arguments to axis() will raise a TypeError in 3.3.\n",
            "  ax.axis(xmin=xx.min(), xmax=xx.max(), y_min=yy.min(), y_max=yy.max())\n"
          ]
        },
        {
          "output_type": "display_data",
          "data": {
            "text/plain": [
              "<Figure size 432x288 with 1 Axes>"
            ],
            "image/png": "[encoded data removed]"
          },
          "metadata": {
            "needs_background": "light"
          }
        }
      ]
    },
    {
      "cell_type": "code",
      "source": [
        "# now we will be using another evaluation metric called auroc\n",
        "from sklearn.metrics import roc_auc_score\n",
        "for i in [1,2,3,4,5,6,7,8,9,10,11,12,13,14,15,16,17,18,19,20]:\n",
        "  knn = KNeighborsClassifier(i)\n",
        "  knn.fit(x_train,y_train)\n",
        "  print(\"K value when i = \",i,\"is\",roc_auc_score(y_test, knn.predict_proba(x_test)[:,1])) # we use test data set to find the best val for "
      ],
      "metadata": {
        "colab": {
          "base_uri": "https://localhost:8080/"
        },
        "id": "zegnhyyUKHv4",
        "outputId": "a3e7026f-95c3-4fd6-a4df-5690d7347797"
      },
      "execution_count": 7,
      "outputs": [
        {
          "output_type": "stream",
          "name": "stdout",
          "text": [
            "K value when i =  1 is 0.90625\n",
            "K value when i =  2 is 0.90625\n",
            "K value when i =  3 is 0.8995535714285714\n",
            "K value when i =  4 is 0.8995535714285714\n",
            "K value when i =  5 is 0.8995535714285714\n",
            "K value when i =  6 is 0.8928571428571428\n",
            "K value when i =  7 is 0.8861607142857143\n",
            "K value when i =  8 is 0.9397321428571428\n",
            "K value when i =  9 is 0.9352678571428572\n",
            "K value when i =  10 is 0.9308035714285715\n",
            "K value when i =  11 is 0.9375\n",
            "K value when i =  12 is 0.9330357142857143\n",
            "K value when i =  13 is 0.9330357142857143\n",
            "K value when i =  14 is 0.9486607142857143\n",
            "K value when i =  15 is 0.9441964285714286\n",
            "K value when i =  16 is 0.9464285714285714\n",
            "K value when i =  17 is 0.9352678571428572\n",
            "K value when i =  18 is 0.9308035714285714\n",
            "K value when i =  19 is 0.9241071428571429\n",
            "K value when i =  20 is 0.9263392857142857\n"
          ]
        }
      ]
    },
    {
      "cell_type": "code",
      "source": [
        "# we use cross validation technique to find the best value of k\n",
        "from sklearn.model_selection import cross_val_score\n",
        "for i in [1,2,3,4,5,6,7,8,9,10,11,12,13,14,15,16,17,18,19,20]:\n",
        "  clf = KNeighborsClassifier(n_neighbors=i) \n",
        "  clf.fit(x, z) # train the model\n",
        "  print(\"cross-validation score for i=\",i,'is', np.mean(cross_val_score(clf, x, z, cv=10))) # here we found best val of k using train dataset ."
      ],
      "metadata": {
        "colab": {
          "base_uri": "https://localhost:8080/"
        },
        "id": "Lgu5t0-G_tZG",
        "outputId": "2bb80fe2-a48e-457e-b64e-0663588b8352"
      },
      "execution_count": 21,
      "outputs": [
        {
          "output_type": "stream",
          "name": "stdout",
          "text": [
            "cross-validation score for i= 1 is 0.9199999999999999\n",
            "cross-validation score for i= 2 is 0.9199999999999999\n",
            "cross-validation score for i= 3 is 0.95\n",
            "cross-validation score for i= 4 is 0.9400000000000001\n",
            "cross-validation score for i= 5 is 0.95\n",
            "cross-validation score for i= 6 is 0.93\n",
            "cross-validation score for i= 7 is 0.9400000000000001\n",
            "cross-validation score for i= 8 is 0.9199999999999999\n",
            "cross-validation score for i= 9 is 0.93\n",
            "cross-validation score for i= 10 is 0.9199999999999999\n",
            "cross-validation score for i= 11 is 0.9199999999999999\n",
            "cross-validation score for i= 12 is 0.9199999999999999\n",
            "cross-validation score for i= 13 is 0.93\n",
            "cross-validation score for i= 14 is 0.9199999999999999\n",
            "cross-validation score for i= 15 is 0.9199999999999999\n",
            "cross-validation score for i= 16 is 0.9199999999999999\n",
            "cross-validation score for i= 17 is 0.93\n",
            "cross-validation score for i= 18 is 0.93\n",
            "cross-validation score for i= 19 is 0.93\n",
            "cross-validation score for i= 20 is 0.93\n"
          ]
        }
      ]
    }
  ]
}